{
 "cells": [
  {
   "cell_type": "code",
   "execution_count": 1,
   "metadata": {},
   "outputs": [],
   "source": [
    "import pandas as pd"
   ]
  },
  {
   "cell_type": "code",
   "execution_count": 2,
   "metadata": {},
   "outputs": [],
   "source": [
    "split_dates = pd.date_range(start='2016-04-01',\n",
    "                                end='2018-02-01',\n",
    "                                freq='1'+'MS').strftime('%Y-%m-%d').tolist()"
   ]
  },
  {
   "cell_type": "code",
   "execution_count": 8,
   "metadata": {
    "collapsed": true
   },
   "outputs": [
    {
     "data": {
      "text/plain": [
       "['2016-04-01',\n",
       " '2016-05-01',\n",
       " '2016-06-01',\n",
       " '2016-07-01',\n",
       " '2016-08-01',\n",
       " '2016-09-01',\n",
       " '2016-10-01',\n",
       " '2016-11-01',\n",
       " '2016-12-01',\n",
       " '2017-01-01',\n",
       " '2017-02-01',\n",
       " '2017-03-01',\n",
       " '2017-04-01',\n",
       " '2017-05-01',\n",
       " '2017-06-01',\n",
       " '2017-07-01',\n",
       " '2017-08-01',\n",
       " '2017-09-01',\n",
       " '2017-10-01',\n",
       " '2017-11-01',\n",
       " '2017-12-01',\n",
       " '2018-01-01',\n",
       " '2018-02-01']"
      ]
     },
     "execution_count": 8,
     "metadata": {},
     "output_type": "execute_result"
    }
   ],
   "source": [
    "split_dates"
   ]
  },
  {
   "cell_type": "code",
   "execution_count": 3,
   "metadata": {},
   "outputs": [],
   "source": [
    "fd= open('split_train.sql', 'r')\n",
    "split_raw_sql = fd.read()\n",
    "fd.close()"
   ]
  },
  {
   "cell_type": "code",
   "execution_count": 4,
   "metadata": {},
   "outputs": [
    {
     "data": {
      "text/plain": [
       "'20160401'"
      ]
     },
     "execution_count": 4,
     "metadata": {},
     "output_type": "execute_result"
    }
   ],
   "source": [
    "split_dates[0].replace('-','')"
   ]
  },
  {
   "cell_type": "code",
   "execution_count": 5,
   "metadata": {},
   "outputs": [],
   "source": [
    "for i in range(len(split_dates)):\n",
    "    split_sql_new = split_raw_sql.format(date_start='2016-03-01',\n",
    "                     date_end=split_dates[i],\n",
    "                     date_start_string='20160301',date_end_string=split_dates[i].replace('-',''))\n",
    "    with open('split_data_{date_end_string}.sql'.format(date_end_string=split_dates[i].replace('-','')), 'w') as file:\n",
    "        file.write(split_sql_new)\n",
    "        file.close()\n",
    "    "
   ]
  },
  {
   "cell_type": "code",
   "execution_count": null,
   "metadata": {},
   "outputs": [],
   "source": []
  },
  {
   "cell_type": "code",
   "execution_count": null,
   "metadata": {},
   "outputs": [],
   "source": []
  },
  {
   "cell_type": "code",
   "execution_count": null,
   "metadata": {},
   "outputs": [],
   "source": []
  },
  {
   "cell_type": "code",
   "execution_count": null,
   "metadata": {},
   "outputs": [],
   "source": []
  }
 ],
 "metadata": {
  "kernelspec": {
   "display_name": "Python 3",
   "language": "python",
   "name": "python3"
  },
  "language_info": {
   "codemirror_mode": {
    "name": "ipython",
    "version": 3
   },
   "file_extension": ".py",
   "mimetype": "text/x-python",
   "name": "python",
   "nbconvert_exporter": "python",
   "pygments_lexer": "ipython3",
   "version": "3.6.7"
  }
 },
 "nbformat": 4,
 "nbformat_minor": 2
}
